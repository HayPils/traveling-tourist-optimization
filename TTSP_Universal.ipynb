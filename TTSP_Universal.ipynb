{
 "cells": [
  {
   "cell_type": "markdown",
   "metadata": {},
   "source": [
    "### CS/ECE/ISyE 524 &mdash; Introduction to Optimization &mdash; Fall 2018 ###\n",
    "\n",
    "# Traveling Tourist Problem: Universal Orlando Theme Parks#\n",
    "\n",
    "#### Hayden Pilsner (hpilsner@wisc.edu 9074728099)\n",
    "#### Student 2 (email address and student ID number)\n",
    "#### Student 3 (email address and student ID number)\n",
    "\n",
    "### Table of Contents\n",
    "\n",
    "1. [Introduction](#1.-Introduction)\n",
    "1. [Mathematical Model](#2.-Mathematical-model)\n",
    "1. [Solution](#3.-Solution)\n",
    "1. [Results and Discussion](#4.-Results-and-discussion)\n",
    "1. [Optional Subsection](#4.A.-Feel-free-to-add-subsections)\n",
    "1. [Conclusion](#5.-Conclusion)"
   ]
  },
  {
   "cell_type": "markdown",
   "metadata": {},
   "source": [
    "## 1. Introduction ##\n",
    "\n",
    "The first few sentences should give a quick overview of the entire project. Then, elaborate with a description of the problem that will be solved, a brief history (with [citations](https://en.wikipedia.org/wiki/Citation)) of how the problem came about, why it's important/interesting, and any other interesting facts you'd like to talk about. You should address and explain where the problem data is coming from (research? the internet? synthetically generated?) Also give an outline of the rest of the report.\n",
    "\n",
    "This section should be 300-600 words long, and **should be accessible to a general audience** (don't assume your reader has taken the class!). Feel free to include images if you think it'll be helpful:\n",
    "![fixit flowchart][flow]\n",
    "\n",
    "For more help on using Markdown, see [this reference](https://github.com/adam-p/markdown-here/wiki/Markdown-Cheatsheet).\n",
    "\n",
    "[flow]: https://s-media-cache-ak0.pinimg.com/736x/f5/75/c5/f575c53b93724808c6f0211890a54900.jpg"
   ]
  },
  {
   "cell_type": "markdown",
   "metadata": {},
   "source": [
    "## 2. Mathematical model ##\n",
    "\n",
    "A discussion of the modeling assumptions made in the problem (e.g. is it from physics? economics? something else?). Explain the decision variables, the constraints, and the objective function. Finally, show the optimization problem written in standard form. Discuss the model type (LP, QP, MIP, etc.). Equations should be formatted in $\\\\LaTeX$ within the IJulia notebook. For this section you may **assume the reader is familiar with the material covered in class**.\n",
    "\n",
    "Here is an example of an equation:\n",
    "\n",
    "$$\\begin{bmatrix}\n",
    "      1 & 2 \\\\\n",
    "       3 & 4\n",
    "    \\end{bmatrix}\n",
    "    \\begin{bmatrix} x \\\\ y \\end{bmatrix} =\n",
    "    \\begin{bmatrix} 5 \\\\ 6 \\end{bmatrix}$$\n",
    "\n",
    "And here is an example of an optimization problem in standard form:\n",
    "$$\\begin{aligned}\n",
    "  \\underset{x, y}{\\text{minimize}}\\qquad& \\sum_{i\\in A}\\left(\\sum_{t = 1}^{T} \\sum_{j\\in A} tx_{ij}^{t} - \\sum_{t = 1}^{T} ty_{i}^{t} \\right)\\\\\n",
    "    \\text{subject to:}\\qquad& \\sum_{t = 1}^{T} \\sum_{j\\in A} x_{ij}^{t} = 1 && \\forall i \\in A\\\\\n",
    "    & \\sum_{t = 1}^{T} \\sum_{i \\in A} x_{ij}^{t} = 1 && \\forall j \\in A \\\\\n",
    "    & \\sum_{t = 1}^{T} y_{i}^{t} = 1 && \\forall i \\in A \\\\\n",
    "    & \\sum_{i \\in A} y_{i}^{t} \\le 1 && \\forall t \\in \\{ 1, \\dots , T \\}\\\\\n",
    "    & \\sum_{j\\in A} x_{ij}^{t} \\le \\sum_{k = 0}^{t} y_{i}^{k} && \\forall i \\in A, \\quad \\forall t \\in \\{ 1, \\dots , T \\}\\\\\n",
    "    & y_{i}^{t} w_{i}^{t} \\le \\gamma \\sum_{k = t}^{T} \\sum_{j\\in A} kx_{ij}^{k} - ty_{i}^{t} && \\forall i \\in A, \\quad \\forall t \\in \\{ 1, \\dots , T \\} \\\\\n",
    "    & x_{ij}^{t} \\in \\{0, 1\\} && \\forall i,j \\in A, \\quad \\forall t \\in \\{ 1, \\dots , T \\} \\\\\n",
    "    & y_{i}^{t} \\in \\{0, 1\\} && \\forall i \\in A, \\quad \\forall t \\in \\{ 1, \\dots , T \\}\n",
    "    \\end{aligned}$$\n",
    "\n",
    "For some quick tips on using $\\LaTeX$, see [this cheat sheet](http://users.dickinson.edu/~richesod/latex/latexcheatsheet.pdf)."
   ]
  },
  {
   "cell_type": "markdown",
   "metadata": {},
   "source": [
    "## 3. Solution ##\n",
    "\n",
    "Here, you should code up your model in Julia + JuMP and solve it. Your code should be clean, easy to read, well annotated and commented, and it should compile! You are not allowed to use other programming languages or DCP packages such as `convex.jl`. **I will be running your code**. I suggest having multiple code blocks separated by text blocks that explain the various parts of your solution. You may also solve several versions of your problem with different models/assumptions.\n",
    "\n",
    "It's fine to call external packages such as `Gurobi`, but try to minimize the use of exotic libraries.\n",
    "\n",
    "### Minimizing Wait Time: ###"
   ]
  },
  {
   "cell_type": "code",
   "execution_count": 2,
   "metadata": {},
   "outputs": [
    {
     "name": "stdout",
     "output_type": "stream",
     "text": [
      "Academic license - for non-commercial use only\n",
      "Min wait time: 90.0\n",
      "6×2 Named Array{String,2}\n",
      "                            Rides ╲  │ Arrival Time    Wait (min)\n",
      "─────────────────────────────────────┼───────────────────────────\n",
      "\"Fast & Furious - Supercharged\"      │    \"9:15 AM\"          \"12\"\n",
      "\"Harry Potter Escape from Gringotts\" │   \"10:00 AM\"          \"14\"\n",
      "\"MEN IN BLACK Alien Attack\"          │   \"10:45 AM\"           \"6\"\n",
      "\"The Simpsons Ride\"                  │   \"11:15 AM\"           \"8\"\n",
      "\"Shrek 4-D\"                          │    \"2:45 PM\"           \"7\"\n",
      "\"Transformers: The Ride 3D\"          │    \"6:30 PM\"           \"5\"\n"
     ]
    }
   ],
   "source": [
    "using JuMP, Gurobi, NamedArrays\n",
    "s = 40    # number of time s\n",
    "z = 15    # interval of time s\n",
    "α = 15\n",
    "# import wait times\n",
    "raw_wait = readcsv(\"wait_times.csv\")\n",
    "(u,v) = size(raw_wait)\n",
    "\n",
    "n_waitTimes = 2:v      # columns containing waitTimes\n",
    "n_rides = 2:u          # rows containing rides names\n",
    "\n",
    "waitTimes = raw_wait[1,n_waitTimes][:]   \n",
    "rides = raw_wait[n_rides,1][:]           \n",
    "\n",
    "w = NamedArray( raw_wait[n_rides,n_waitTimes], (rides,waitTimes), (\"Rides\",\"Wait Times\") );\n",
    "r = u - 1    # number of rides\n",
    "\n",
    "m = Model(solver=GurobiSolver(OutputFlag=0))\n",
    "\n",
    "@variable(m, x[1:r, 1:r, 1:s], Bin)    # departures from i to j at time t\n",
    "@variable(m, y[1:r, 1:s], Bin)    # arrivals at i at time t\n",
    "\n",
    "@constraint(m, c1[i in 1:r], sum(sum(x[i,j,t] for j in 1:r) for t in 1:s) == 1)    # can only leave ride once\n",
    "@constraint(m, c2[i in 1:r], sum(sum(x[j,i,t] for j in 1:r) for t in 1:s) == 1)    # can only come from one ride\n",
    "@constraint(m, c3[i in 1:r], sum(y[i,t] for t in 1:s) == 1)    # ride each ride once and only once\n",
    "@constraint(m, c4[t in 1:s], sum(y[i,t] for i in 1:r) <= 1)   # can only arrive at one ride at one time\n",
    "# you cannot leave i before you arrive at i\n",
    "@constraint(m, c5[i in 1:r, t in 1:s], sum(x[i,j,t] for j in 1:r) <= sum(y[i,k] for k in 1:t))\n",
    "# difference between departure and arrival time must be at least the wait time at i, if arriving at i at time t\n",
    "@constraint(m, c6[i in 1:r, t in 1:s], z*(sum(sum(k*x[i,j,k] for j in 1:r) for k in t:s) - t*y[i,t]) >= y[i,t] * w[i,t])\n",
    "\n",
    "# wait time\n",
    "@expression(m, wait, sum(sum(sum(z*t*x[i,j,t] for j in 1:r) for t in 1:s) - sum(z*t*y[i,t] for t in 1:s) for i in 1:r))\n",
    "@objective(m, Min, wait)    # minimize wait time\n",
    "\n",
    "solve(m)\n",
    "println(\"Min wait time: \", getobjectivevalue(m))\n",
    "sched_data = Array{String}(r, 2)\n",
    "sched_headers = [\"Arrival Time\", \"Wait (min)\"]\n",
    "\n",
    "opty = getvalue(y)\n",
    "optx = getvalue(x)\n",
    "order = 1\n",
    "\n",
    "ride_order = copy(rides)\n",
    "for i in 1:s\n",
    "    for j in 1:r\n",
    "        if (opty[j,i] == 1.0)\n",
    "            ride_order[order] = rides[j]\n",
    "            sched_data[order,1] = waitTimes[i]\n",
    "            sched_data[order,2] = string(w[j,i])\n",
    "            order += 1\n",
    "        end\n",
    "    end\n",
    "end\n",
    "\n",
    "schedule = NamedArray( sched_data[1:r,1:2], (ride_order, sched_headers), (\"Rides\",\"\") );\n",
    "println(schedule)"
   ]
  },
  {
   "cell_type": "code",
   "execution_count": 2,
   "metadata": {},
   "outputs": [
    {
     "data": {
      "text/plain": [
       "import_wait (generic function with 1 method)"
      ]
     },
     "execution_count": 2,
     "metadata": {},
     "output_type": "execute_result"
    }
   ],
   "source": [
    "function import_walk(filename)        # import walk times\n",
    "    raw_walk = readcsv(filename)\n",
    "    r = size(raw_walk)[1] - 1 # number of rides\n",
    "    return raw_walk[2:r+1, 2:r+1]\n",
    "end\n",
    "\n",
    "function import_wait(filename, interval_len)    # import wait times\n",
    "    raw_wait = readcsv(filename)\n",
    "    r = length(raw_wait[:,1]) - 1\n",
    "    slots = size(raw_wait[1, :])[1] - 1\n",
    "    w = Matrix(0,slots*interval_len)\n",
    "    raw_wait = raw_wait[2:r+1,2:slots+1]\n",
    "    for i in 1:r\n",
    "        w_row = []\n",
    "        for j in 1:slots\n",
    "            for k in 1:interval_len\n",
    "                push!(w_row, raw_wait[i,j])\n",
    "            end\n",
    "        end\n",
    "        w = [w ; transpose(w_row)]\n",
    "    end\n",
    "    return w\n",
    "end"
   ]
  },
  {
   "cell_type": "code",
   "execution_count": 2,
   "metadata": {},
   "outputs": [
    {
     "name": "stdout",
     "output_type": "stream",
     "text": [
      "Academic license - for non-commercial use only\n",
      "26.0\n",
      "[-0.0 0.0 1.0 0.0 0.0 0.0; 0.0 -0.0 0.0 1.0 0.0 0.0; 0.0 1.0 -0.0 0.0 0.0 0.0; 0.0 0.0 0.0 -0.0 1.0 0.0; 0.0 0.0 0.0 0.0 -0.0 1.0; 1.0 0.0 0.0 0.0 0.0 -0.0]\n"
     ]
    }
   ],
   "source": [
    "using JuMP, Gurobi\n",
    "\n",
    "function shortest_distance(c)\n",
    "    r = length(c[1,:])\n",
    "    \n",
    "    m = Model(solver=GurobiSolver(OutputFlag=0))\n",
    "    @variable(m, x[1:r, 1:r], Bin)                                      # decision matrix going from ride i to j\n",
    "    # TSP constraints\n",
    "    @constraint(m, c1[j in 1:r], sum( x[i,j] for i in 1:r ) == 1)       # one out-edge\n",
    "    @constraint(m, c2[i in 1:r], sum( x[i,j] for j in 1:r ) == 1)       # one in-edge\n",
    "    @constraint(m, c3[i in 1:r], x[i,i] == 0 )                          # no self-loops\n",
    "\n",
    "    # Miller-Tucker-Zemlin variables and constraints to eliminate subtours\n",
    "    @variable(m, u[1:r])\n",
    "    @constraint(m, c4[i in 1:r, j in 2:r], u[i] - u[j] + r*x[i,j] <= r-1 )\n",
    "\n",
    "    @expression(m, walk, sum(x[i,j]*c[i,j] for i in 1:r, j in 1:r))\n",
    "    @objective(m, Min, walk)   # minimize total cost\n",
    "\n",
    "    solve(m)\n",
    "    println(getobjectivevalue(m))\n",
    "    optx = getvalue(x)\n",
    "    println(getvalue(x))\n",
    "end\n",
    "\n",
    "c = import_walk(\"walk_times.csv\")    # symmetric walk time matrix\n",
    "w = import_wait(\"wait_times.csv\", 15)     # asymmetric temporal wait time matrix (wait time at ride i at minute t)\n",
    "shortest_distance(c)"
   ]
  },
  {
   "cell_type": "code",
   "execution_count": 7,
   "metadata": {},
   "outputs": [
    {
     "name": "stdout",
     "output_type": "stream",
     "text": [
      "Universal Studios:\n",
      "Academic license - for non-commercial use only\n",
      "70.99999999999987\n",
      "1.0 18.00000000000006 41.99999999999999 64.0 121.99999999999727 83.99999999999683 105.99999999999956 \n",
      "Islands of Adventure:\n",
      "Academic license - for non-commercial use only\n",
      "61.0\n",
      "1.0 15.0 77.0 96.0 59.0 36.0 111.0 \n"
     ]
    }
   ],
   "source": [
    "using JuMP, Gurobi\n",
    "\n",
    "function optimal_theme_park_tour(walk_λ, wait_λ, β, T, c, w)\n",
    "    r = length(c[1,:])\n",
    "\n",
    "    m = Model(solver=GurobiSolver(OutputFlag=0))\n",
    "    @variable(m, x[1:r, 1:r], Bin)                                      # decision matrix going from ride i to j\n",
    "    @variable(m, a[1:r, 1:T], Bin)                                      # decision matrix riding ride i at minute t\n",
    "    # TSP constraints\n",
    "    @constraint(m, c1[j in 1:r], sum( x[i,j] for i in 1:r ) == 1)       # one out-edge\n",
    "    @constraint(m, c2[i in 1:r], sum( x[i,j] for j in 1:r ) == 1)       # one in-edge\n",
    "    @constraint(m, c3[i in 1:r], x[i,i] == 0 )                          # no self-loops\n",
    "\n",
    "    # Miller-Tucker-Zemlin variables and constraints to eliminate multiple subtours\n",
    "    @variable(m, u[1:r])\n",
    "    @constraint(m, c4[i in 1:r, j in 2:r], u[i] - u[j] + r*x[i,j] <= r-1 )\n",
    "    \n",
    "    if (wait_λ > 0)\n",
    "        @constraint(m, c5[i in 1:r], (1 - x[i,1])*sum(a[i,t]*(β + t + w[i,t]) for t in 1:T) + sum(x[i,j]*c[i,j] for j in 2:r) == sum(t*sum(a[j,t]*x[i,j] for j in 2:r) for t in 1:T))\n",
    "        @constraint(m, c6[i in 1:r], sum(a[i,t] for t in 1:T) == 1)\n",
    "        @constraint(m, c7, a[1,1] == 1)\n",
    "    end\n",
    "\n",
    "    @expression(m, walk, sum(x[i,j]*c[i,j] for i in 1:r, j in 1:r))    # walk time\n",
    "    @expression(m, wait, sum(sum(a[i,t]*w[i,t] for t in 1:T) for i in 1:r))    # wait time\n",
    "    @objective(m, Min, walk_λ*walk + wait_λ*wait)   # minimize total walk and wait time\n",
    "\n",
    "    solve(m)\n",
    "    println(getobjectivevalue(m))\n",
    "    optx = getvalue(x)\n",
    "    opta = getvalue(a)\n",
    "    for i in 1:r\n",
    "        print(sum(t*opta[i,t] for t in 1:T), \" \")\n",
    "    end\n",
    "    println(\"\")\n",
    "end\n",
    "\n",
    "# Universal Studios Park\n",
    "println(\"Universal Studios:\")\n",
    "c = import_walk(\"studios_walk.csv\")    # symmetric walk time matrix\n",
    "w = import_wait(\"studios_wait.csv\", 15)     # asymmetric temporal wait time matrix (wait time at ride i at minute t)\n",
    "optimal_theme_park_tour(1, 1, 10, 150, c, w)\n",
    "\n",
    "# Islands of Adventure Park\n",
    "println(\"Islands of Adventure:\")\n",
    "c = import_walk(\"ioa_walk.csv\")    # symmetric walk time matrix\n",
    "w = import_wait(\"ioa_wait.csv\", 15)     # asymmetric temporal wait time matrix (wait time at ride i at minute t)\n",
    "optimal_theme_park_tour(1, 1, 10, 150, c, w)"
   ]
  },
  {
   "cell_type": "markdown",
   "metadata": {},
   "source": [
    "## 4. Results and discussion ##\n",
    "\n",
    "Here, you display and discuss the results. Show figures, plots, images, trade-off curves, or whatever else you can think of to best illustrate your results. The discussion should explain what the results mean, and how to interpret them. You should also explain the limitations of your approach/model and how sensitive your results are to the assumptions you made.\n",
    "\n",
    " Use plots (see `PyPlot` examples from class), or you can display results in a table like this:\n",
    "\n",
    "| Tables        | Are          | Cool  |\n",
    "| ------------- |:-------------| -----:|\n",
    "| col 3 is      |right-aligned |\\$1600 |\n",
    "|  colons       | align columns|  \\$12 |\n",
    "| zebra stripes |    are neat  |   \\$1 |\n",
    "\n",
    "### 4.A. Feel free to add subsections\n",
    "\n",
    "#### 4.A.a. or subsubsections"
   ]
  },
  {
   "cell_type": "markdown",
   "metadata": {},
   "source": [
    "## 5. Conclusion ##\n",
    "\n",
    "Summarize your findings and your results, and talk about at least one possible future direction; something that might be interesting to pursue as a follow-up to your project."
   ]
  },
  {
   "cell_type": "markdown",
   "metadata": {},
   "source": []
  }
 ],
 "metadata": {
  "kernelspec": {
   "display_name": "Julia 0.6.4",
   "language": "julia",
   "name": "julia-0.6"
  },
  "language_info": {
   "file_extension": ".jl",
   "mimetype": "application/julia",
   "name": "julia",
   "version": "0.6.4"
  }
 },
 "nbformat": 4,
 "nbformat_minor": 2
}
