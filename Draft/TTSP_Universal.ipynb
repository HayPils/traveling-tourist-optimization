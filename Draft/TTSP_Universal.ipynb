{
 "cells": [
  {
   "cell_type": "markdown",
   "metadata": {},
   "source": [
    "### CS/ECE/ISyE 524 &mdash; Introduction to Optimization &mdash; Fall 2018 ###\n",
    "\n",
    "# Traveling Tourist Problem: Universal Orlando Theme Parks#\n",
    "\n",
    "#### Hayden Pilsner (hpilsner@wisc.edu, 9074728099)\n",
    "#### Sahil Verma (sverma23@wisc.edu, 9075936238)\n",
    "#### Rakshith Padmanabha (rpadmanabha@wisc.edu, 9075969643)\n",
    "\n",
    "### Table of Contents\n",
    "\n",
    "1. [Introduction](#1.-Introduction)\n",
    "1. [Mathematical Model](#2.-Mathematical-model)\n",
    "1. [Solution](#3.-Solution)\n",
    "1. [Results and Discussion](#4.-Results-and-discussion)\n",
    "1. [Optional Subsection](#4.A.-Feel-free-to-add-subsections)\n",
    "1. [Conclusion](#5.-Conclusion)"
   ]
  },
  {
   "cell_type": "markdown",
   "metadata": {},
   "source": [
    "## 1. Introduction ##\n",
    "\n",
    "Despite the amazing time everyone has at theme parks, the waiting times are often the most annoying part of the trip. To fix this problem, we decided to come up with a simple wait-time optimizer, to minimize time spent in lines, and spend more time enjoying the park!\n",
    "\n",
    "When Hayden went to Universal Park studios at Orlando,FL over Thanksgiving, he was disappointed with the amount of time he spent in lines rather than enjoying the rides. When the day was over he had ridden all the rides. This gave him the Eureka moment that it definitely is possible to enjoy all rides, even though a majority of his time was spent in rides. As such, when he returned from his trip, and he told us his interesting finding, we all wondered whether it was possible to travel to all the rides by optimizing which ride you visit based on the wait time. Hence, we decided to explore this question as our CS 524 final project.\n",
    "\n",
    "We decided to solve this problem by modeling our question in the form of popular but challenging problem called *Travelling Salesman Problem*. It essentially asks the question \"Given a list of cities and the distances between each pair of cities, what is the shortest possible route that visits each city and returns to the origin city?\" ([cite](https://en.wikipedia.org/wiki/Travelling_salesman_problem)). For our model, we aggreagated problem data from [Touring Plans website](https://touringplans.com/universal-studios-florida/wait-times) and Google Maps for the wait time for each ride for specific day and for walk time between the rides in the theme park respectively. The model accepts the problem data in CSV format, making it flexible to adopt our model for a different theme park or for a different day provided the data is available. The goal of our model is to the best path that the tourist should take inorder to efficiently minimize wait time and walk time by experiencing all rides inside the theme park. \n",
    "\n",
    "In our report, we have explained three models, which are of incremental increase in complexity from the previous model, with the third model being able to successfully meet all the requirements of the our problem and provide an efficient solution. The first model we developed returns the solution by minimizing the wait time for each ride and does not consider walk time. The second model we developed returns the solution by minimizing the walk time between the rides. The result of the second model is similar to achieving the shortest path for all the rides inside the theme park. The third model is a merger of the first and the second model. The third model takes into account both the wait time for each ride and walk time between rides and returns the order in which a tourist should go on the rides in the theme park to minimize the total time spent in the theme park. \n",
    "\n",
    "We found interesting and conclusive results by testing our model with data from Universal Studios Florida. We can easily use this model for other theme parks as well to yield the same efficient result. We can use our model with little to no change in other temporal circumstances like moderate traffic flow by minimizing wait time at intersections, supply chain of goods and services, to name a few.\n"
   ]
  },
  {
   "cell_type": "markdown",
   "metadata": {},
   "source": [
    "## 2. Mathematical model ##\n",
    "\n",
    "o go about this project, we use a Travelling Salesman Problem model ([Furini, Fabio. “The Time Dependent Traveling Salesman Planning Problem in Controlled Airspace.” (2015)](http://www.optimization-online.org/DB_FILE/2015/06/4971.pdf)) to find the optimal path. The extra constraint that we added is that of the wait-times of rides itself, with the objective to minimize the amount of time spent in lines. For this problem, we chose to take the data of Universal Park studios. The wait-times data that we used is [accurate](https://touringplans.com/universal-studios-florida/wait-times), and hence the results can be actually applicable in real life!\n",
    "\n",
    "\n",
    "A discussion of the modeling assumptions made in the problem (e.g. is it from physics? economics? something else?). Explain the decision variables, the constraints, and the objective function. Finally, show the optimization problem written in standard form. Discuss the model type (LP, QP, MIP, etc.). Equations should be formatted in $\\\\LaTeX$ within the IJulia notebook. For this section you may **assume the reader is familiar with the material covered in class**.\n",
    "\n",
    "Here is an example of an equation:\n",
    "\n",
    "$$\\begin{bmatrix}\n",
    "      1 & 2 \\\\\n",
    "       3 & 4\n",
    "    \\end{bmatrix}\n",
    "    \\begin{bmatrix} x \\\\ y \\end{bmatrix} =\n",
    "    \\begin{bmatrix} 5 \\\\ 6 \\end{bmatrix}$$\n",
    "\n",
    "And here is an example of an optimization problem in standard form:\n",
    "$$\\begin{aligned}\n",
    "  \\underset{x, y}{\\text{minimize}}\\qquad& \\sum_{i\\in A}\\left(\\sum_{t = 1}^{T} \\sum_{j\\in A} tx_{ij}^{t} - \\sum_{t = 1}^{T} ty_{i}^{t} \\right)\\\\\n",
    "    \\text{subject to:}\\qquad& \\sum_{t = 1}^{T} \\sum_{j\\in A} x_{ij}^{t} = 1 && \\forall i \\in A\\\\\n",
    "    & \\sum_{t = 1}^{T} \\sum_{i \\in A} x_{ij}^{t} = 1 && \\forall j \\in A \\\\\n",
    "    & \\sum_{t = 1}^{T} y_{i}^{t} = 1 && \\forall i \\in A \\\\\n",
    "    & \\sum_{i \\in A} y_{i}^{t} \\le 1 && \\forall t \\in \\{ 1, \\dots , T \\}\\\\\n",
    "    & \\sum_{j\\in A} x_{ij}^{t} \\le \\sum_{k = 0}^{t} y_{i}^{k} && \\forall i \\in A, \\quad \\forall t \\in \\{ 1, \\dots , T \\}\\\\\n",
    "    & y_{i}^{t} w_{i}^{t} \\le \\gamma \\sum_{k = t}^{T} \\sum_{j\\in A} kx_{ij}^{k} - ty_{i}^{t} && \\forall i \\in A, \\quad \\forall t \\in \\{ 1, \\dots , T \\} \\\\\n",
    "    & x_{ij}^{t} \\in \\{0, 1\\} && \\forall i,j \\in A, \\quad \\forall t \\in \\{ 1, \\dots , T \\} \\\\\n",
    "    & y_{i}^{t} \\in \\{0, 1\\} && \\forall i \\in A, \\quad \\forall t \\in \\{ 1, \\dots , T \\}\n",
    "    \\end{aligned}$$\n",
    "\n",
    "For some quick tips on using $\\LaTeX$, see [this cheat sheet](http://users.dickinson.edu/~richesod/latex/latexcheatsheet.pdf)."
   ]
  },
  {
   "cell_type": "markdown",
   "metadata": {},
   "source": [
    "## 3. Solution ##\n",
    "\n",
    "Here, you should code up your model in Julia + JuMP and solve it. Your code should be clean, easy to read, well annotated and commented, and it should compile! You are not allowed to use other programming languages or DCP packages such as `convex.jl`. **I will be running your code**. I suggest having multiple code blocks separated by text blocks that explain the various parts of your solution. You may also solve several versions of your problem with different models/assumptions.\n",
    "\n",
    "It's fine to call external packages such as `Gurobi`, but try to minimize the use of exotic libraries.\n",
    "\n",
    "### Minimizing Wait Time: ###"
   ]
  },
  {
   "cell_type": "code",
   "execution_count": 2,
   "metadata": {},
   "outputs": [
    {
     "name": "stdout",
     "output_type": "stream",
     "text": [
      "Academic license - for non-commercial use only\n",
      "Min wait time: 90.0\n",
      "6×2 Named Array{String,2}\n",
      "                            Rides ╲  │ Arrival Time    Wait (min)\n",
      "─────────────────────────────────────┼───────────────────────────\n",
      "\"Fast & Furious - Supercharged\"      │    \"9:15 AM\"          \"12\"\n",
      "\"Harry Potter Escape from Gringotts\" │   \"10:00 AM\"          \"14\"\n",
      "\"MEN IN BLACK Alien Attack\"          │   \"10:45 AM\"           \"6\"\n",
      "\"The Simpsons Ride\"                  │   \"11:15 AM\"           \"8\"\n",
      "\"Shrek 4-D\"                          │    \"2:45 PM\"           \"7\"\n",
      "\"Transformers: The Ride 3D\"          │    \"6:30 PM\"           \"5\"\n"
     ]
    }
   ],
   "source": [
    "using JuMP, Gurobi, NamedArrays\n",
    "s = 40    # number of time s\n",
    "z = 15    # interval of time s\n",
    "α = 15\n",
    "# import wait times\n",
    "raw_wait = readcsv(\"wait_times.csv\")\n",
    "(u,v) = size(raw_wait)\n",
    "\n",
    "n_waitTimes = 2:v      # columns containing waitTimes\n",
    "n_rides = 2:u          # rows containing rides names\n",
    "\n",
    "waitTimes = raw_wait[1,n_waitTimes][:]   \n",
    "rides = raw_wait[n_rides,1][:]           \n",
    "\n",
    "w = NamedArray( raw_wait[n_rides,n_waitTimes], (rides,waitTimes), (\"Rides\",\"Wait Times\") );\n",
    "r = u - 1    # number of rides\n",
    "\n",
    "m = Model(solver=GurobiSolver(OutputFlag=0))\n",
    "\n",
    "@variable(m, x[1:r, 1:r, 1:s], Bin)    # departures from i to j at time t\n",
    "@variable(m, y[1:r, 1:s], Bin)    # arrivals at i at time t\n",
    "\n",
    "@constraint(m, c1[i in 1:r], sum(sum(x[i,j,t] for j in 1:r) for t in 1:s) == 1)    # can only leave ride once\n",
    "@constraint(m, c2[i in 1:r], sum(sum(x[j,i,t] for j in 1:r) for t in 1:s) == 1)    # can only come from one ride\n",
    "@constraint(m, c3[i in 1:r], sum(y[i,t] for t in 1:s) == 1)    # ride each ride once and only once\n",
    "@constraint(m, c4[t in 1:s], sum(y[i,t] for i in 1:r) <= 1)   # can only arrive at one ride at one time\n",
    "# you cannot leave i before you arrive at i\n",
    "@constraint(m, c5[i in 1:r, t in 1:s], sum(x[i,j,t] for j in 1:r) <= sum(y[i,k] for k in 1:t))\n",
    "# difference between departure and arrival time must be at least the wait time at i, if arriving at i at time t\n",
    "@constraint(m, c6[i in 1:r, t in 1:s], z*(sum(sum(k*x[i,j,k] for j in 1:r) for k in t:s) - t*y[i,t]) >= y[i,t] * w[i,t])\n",
    "\n",
    "# wait time\n",
    "@expression(m, wait, sum(sum(sum(z*t*x[i,j,t] for j in 1:r) for t in 1:s) - sum(z*t*y[i,t] for t in 1:s) for i in 1:r))\n",
    "@objective(m, Min, wait)    # minimize wait time\n",
    "\n",
    "solve(m)\n",
    "println(\"Min wait time: \", getobjectivevalue(m))\n",
    "sched_data = Array{String}(r, 2)\n",
    "sched_headers = [\"Arrival Time\", \"Wait (min)\"]\n",
    "\n",
    "opty = getvalue(y)\n",
    "optx = getvalue(x)\n",
    "order = 1\n",
    "\n",
    "ride_order = copy(rides)\n",
    "for i in 1:s\n",
    "    for j in 1:r\n",
    "        if (opty[j,i] == 1.0)\n",
    "            ride_order[order] = rides[j]\n",
    "            sched_data[order,1] = waitTimes[i]\n",
    "            sched_data[order,2] = string(w[j,i])\n",
    "            order += 1\n",
    "        end\n",
    "    end\n",
    "end\n",
    "\n",
    "schedule = NamedArray( sched_data[1:r,1:2], (ride_order, sched_headers), (\"Rides\",\"\") );\n",
    "println(schedule)"
   ]
  },
  {
   "cell_type": "code",
   "execution_count": 2,
   "metadata": {},
   "outputs": [
    {
     "data": {
      "text/plain": [
       "import_wait (generic function with 1 method)"
      ]
     },
     "execution_count": 2,
     "metadata": {},
     "output_type": "execute_result"
    }
   ],
   "source": [
    "function import_walk(filename)        # import walk times\n",
    "    raw_walk = readcsv(filename)\n",
    "    r = size(raw_walk)[1] - 1 # number of rides\n",
    "    return raw_walk[2:r+1, 2:r+1]\n",
    "end\n",
    "\n",
    "function import_wait(filename, interval_len)    # import wait times\n",
    "    raw_wait = readcsv(filename)\n",
    "    r = length(raw_wait[:,1]) - 1\n",
    "    slots = size(raw_wait[1, :])[1] - 1\n",
    "    w = Matrix(0,slots*interval_len)\n",
    "    raw_wait = raw_wait[2:r+1,2:slots+1]\n",
    "    for i in 1:r\n",
    "        w_row = []\n",
    "        for j in 1:slots\n",
    "            for k in 1:interval_len\n",
    "                push!(w_row, raw_wait[i,j])\n",
    "            end\n",
    "        end\n",
    "        w = [w ; transpose(w_row)]\n",
    "    end\n",
    "    return w\n",
    "end"
   ]
  },
  {
   "cell_type": "code",
   "execution_count": 2,
   "metadata": {},
   "outputs": [
    {
     "name": "stdout",
     "output_type": "stream",
     "text": [
      "Academic license - for non-commercial use only\n",
      "26.0\n",
      "[-0.0 0.0 1.0 0.0 0.0 0.0; 0.0 -0.0 0.0 1.0 0.0 0.0; 0.0 1.0 -0.0 0.0 0.0 0.0; 0.0 0.0 0.0 -0.0 1.0 0.0; 0.0 0.0 0.0 0.0 -0.0 1.0; 1.0 0.0 0.0 0.0 0.0 -0.0]\n"
     ]
    }
   ],
   "source": [
    "using JuMP, Gurobi\n",
    "\n",
    "function shortest_distance(c)\n",
    "    r = length(c[1,:])\n",
    "    \n",
    "    m = Model(solver=GurobiSolver(OutputFlag=0))\n",
    "    @variable(m, x[1:r, 1:r], Bin)                                      # decision matrix going from ride i to j\n",
    "    # TSP constraints\n",
    "    @constraint(m, c1[j in 1:r], sum( x[i,j] for i in 1:r ) == 1)       # one out-edge\n",
    "    @constraint(m, c2[i in 1:r], sum( x[i,j] for j in 1:r ) == 1)       # one in-edge\n",
    "    @constraint(m, c3[i in 1:r], x[i,i] == 0 )                          # no self-loops\n",
    "\n",
    "    # Miller-Tucker-Zemlin variables and constraints to eliminate subtours\n",
    "    @variable(m, u[1:r])\n",
    "    @constraint(m, c4[i in 1:r, j in 2:r], u[i] - u[j] + r*x[i,j] <= r-1 )\n",
    "\n",
    "    @expression(m, walk, sum(x[i,j]*c[i,j] for i in 1:r, j in 1:r))\n",
    "    @objective(m, Min, walk)   # minimize total cost\n",
    "\n",
    "    solve(m)\n",
    "    println(getobjectivevalue(m))\n",
    "    optx = getvalue(x)\n",
    "    println(getvalue(x))\n",
    "end\n",
    "\n",
    "c = import_walk(\"walk_times.csv\")    # symmetric walk time matrix\n",
    "w = import_wait(\"wait_times.csv\", 15)     # asymmetric temporal wait time matrix (wait time at ride i at minute t)\n",
    "shortest_distance(c)"
   ]
  },
  {
   "cell_type": "code",
   "execution_count": 7,
   "metadata": {},
   "outputs": [
    {
     "name": "stdout",
     "output_type": "stream",
     "text": [
      "Universal Studios:\n",
      "Academic license - for non-commercial use only\n",
      "70.99999999999987\n",
      "1.0 18.00000000000006 41.99999999999999 64.0 121.99999999999727 83.99999999999683 105.99999999999956 \n",
      "Islands of Adventure:\n",
      "Academic license - for non-commercial use only\n",
      "61.0\n",
      "1.0 15.0 77.0 96.0 59.0 36.0 111.0 \n"
     ]
    }
   ],
   "source": [
    "using JuMP, Gurobi\n",
    "\n",
    "function optimal_theme_park_tour(walk_λ, wait_λ, β, T, c, w)\n",
    "    r = length(c[1,:])\n",
    "\n",
    "    m = Model(solver=GurobiSolver(OutputFlag=0))\n",
    "    @variable(m, x[1:r, 1:r], Bin)                                      # decision matrix going from ride i to j\n",
    "    @variable(m, a[1:r, 1:T], Bin)                                      # decision matrix riding ride i at minute t\n",
    "    # TSP constraints\n",
    "    @constraint(m, c1[j in 1:r], sum( x[i,j] for i in 1:r ) == 1)       # one out-edge\n",
    "    @constraint(m, c2[i in 1:r], sum( x[i,j] for j in 1:r ) == 1)       # one in-edge\n",
    "    @constraint(m, c3[i in 1:r], x[i,i] == 0 )                          # no self-loops\n",
    "\n",
    "    # Miller-Tucker-Zemlin variables and constraints to eliminate multiple subtours\n",
    "    @variable(m, u[1:r])\n",
    "    @constraint(m, c4[i in 1:r, j in 2:r], u[i] - u[j] + r*x[i,j] <= r-1 )\n",
    "    \n",
    "    if (wait_λ > 0)\n",
    "        @constraint(m, c5[i in 1:r], (1 - x[i,1])*sum(a[i,t]*(β + t + w[i,t]) for t in 1:T) + sum(x[i,j]*c[i,j] for j in 2:r) == sum(t*sum(a[j,t]*x[i,j] for j in 2:r) for t in 1:T))\n",
    "        @constraint(m, c6[i in 1:r], sum(a[i,t] for t in 1:T) == 1)\n",
    "        @constraint(m, c7, a[1,1] == 1)\n",
    "    end\n",
    "\n",
    "    @expression(m, walk, sum(x[i,j]*c[i,j] for i in 1:r, j in 1:r))    # walk time\n",
    "    @expression(m, wait, sum(sum(a[i,t]*w[i,t] for t in 1:T) for i in 1:r))    # wait time\n",
    "    @objective(m, Min, walk_λ*walk + wait_λ*wait)   # minimize total walk and wait time\n",
    "\n",
    "    solve(m)\n",
    "    println(getobjectivevalue(m))\n",
    "    optx = getvalue(x)\n",
    "    opta = getvalue(a)\n",
    "    for i in 1:r\n",
    "        print(sum(t*opta[i,t] for t in 1:T), \" \")\n",
    "    end\n",
    "    println(\"\")\n",
    "end\n",
    "\n",
    "# Universal Studios Park\n",
    "println(\"Universal Studios:\")\n",
    "c = import_walk(\"studios_walk.csv\")    # symmetric walk time matrix\n",
    "w = import_wait(\"studios_wait.csv\", 15)     # asymmetric temporal wait time matrix (wait time at ride i at minute t)\n",
    "optimal_theme_park_tour(1, 1, 10, 150, c, w)\n",
    "\n",
    "# Islands of Adventure Park\n",
    "println(\"Islands of Adventure:\")\n",
    "c = import_walk(\"ioa_walk.csv\")    # symmetric walk time matrix\n",
    "w = import_wait(\"ioa_wait.csv\", 15)     # asymmetric temporal wait time matrix (wait time at ride i at minute t)\n",
    "optimal_theme_park_tour(1, 1, 10, 150, c, w)"
   ]
  },
  {
   "cell_type": "markdown",
   "metadata": {},
   "source": [
    "## 4. Results and discussion ##\n",
    "\n",
    "\n",
    "### First Solution (Wait Times):\n",
    "Based on our first solution, we used the TSP Model constraints with our wait-time constraints to showcase that the problem is in fact feasible. The path is as shown below on the map, with the objective wait-time being <b>90 minutes</b>.\n",
    "\n",
    "<img src=\"map.png\" width=\"400\">\n",
    "\n",
    "### Second Solution (Walk Times):\n",
    "Next, we wanted to minimize the total amount of time spent walking from ride to ride. To do this, we found the shortest distance to cover all rides, and used Miller-Tucker-Zemlin variables and constraints to eliminate subtours. This helped us achieve a minimum walk time of <b>26 minutes</b>.\n",
    "\n",
    "<!-- TODO: Put image -->\n",
    "\n",
    "### Third Solution (Wait + Walk Times):\n",
    "Next, we created a solution to mimize both wait and walk times (this does not incorporate TOTAL time spent at park). We also added a beta function that ensures each tourist waits for 10 minutes before travelling between rides (to make it more realistic). For this solution, we added times from the park Islands of Adventure as well, which is located right next to Universal Park Studios, to notice the differences. As such, we got the toal time spent at the park as: <b>71 minutes</b> and <b>61 minutes</b> repsectively.\n",
    "\n",
    "<!-- TODO: Put image -->\n",
    "\n",
    "This lets us infer that there is infact a way to use the travelling salesman problem to minimize the total amount of time spent travelling and waiting in line for rides. And with those familiar with the problem would know, there isnt a polynomial solution to the problem. As such, with each ride we add, the problem takes"
   ]
  },
  {
   "cell_type": "markdown",
   "metadata": {},
   "source": [
    "## 5. Conclusion ##\n",
    "\n",
    "Bias\n",
    "As good as the data\n",
    "Maximize fun as well (based on ride ratings and reviews)\n",
    "Expand to other parks as well\n",
    "Live wait-times instead of predicted wait-times\n",
    "Traffic prediction as wait-times for Google Maps\n",
    "\n",
    "\n",
    "Summarize your findings and your results, and talk about at least one possible future direction; something that might be interesting to pursue as a follow-up to your project."
   ]
  },
  {
   "cell_type": "markdown",
   "metadata": {},
   "source": []
  }
 ],
 "metadata": {
  "kernelspec": {
   "display_name": "Julia 0.6.4",
   "language": "julia",
   "name": "julia-0.6"
  },
  "language_info": {
   "file_extension": ".jl",
   "mimetype": "application/julia",
   "name": "julia",
   "version": "0.6.4"
  }
 },
 "nbformat": 4,
 "nbformat_minor": 2
}
